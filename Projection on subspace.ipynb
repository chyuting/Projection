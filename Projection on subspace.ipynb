{
 "cells": [
  {
   "cell_type": "code",
   "execution_count": 1,
   "metadata": {},
   "outputs": [],
   "source": [
    "import numpy as np\n",
    "import pandas as pd\n",
    "import pickle as pkl\n",
    "import os\n",
    "from os import listdir\n",
    "from os.path import isfile, isdir, join\n",
    "from numpy import linalg\n",
    "from numpy import matrix\n",
    "import matplotlib.pyplot as plt"
   ]
  },
  {
   "cell_type": "code",
   "execution_count": 2,
   "metadata": {},
   "outputs": [],
   "source": [
    "#data_path = 'C:/Users/IsuzuPredator/Desktop/Tinayu_GUIDesign/Tianyu/preocessed_data/'\n",
    "data_path = './processed_data/'\n",
    "abnormal_data_path = data_path+'abnormal_data/' # 10 days prediction\n",
    "abnormal_data_path_1 = data_path+'abnormal_data_1/' # day by day prediction\n",
    "abnormal_data_path_20 = data_path + 'abnormal_data_20/' # 20 days prediction\n",
    "normal_data_path = data_path+'normal_data/' # normal data (small)"
   ]
  },
  {
   "cell_type": "code",
   "execution_count": 3,
   "metadata": {},
   "outputs": [],
   "source": [
    "# define correct and problem index and construct sensor dictionary\n",
    "raw_correct_idx = [1,2,3,4,5,6,7,8,9,20,23,31,33,34,39,40,41,43,44,45,55,60,69,70,71,72,73,74,75,76,79,80,81,82,83] # depends\n",
    "raw_problem_idx = [10, 11, 12, 13, 14, 15, 16, 17, 18, 19, 21,22,24,25,26,27,28,29,30,32,35,36,37,38,42,46,47,48,49,50,51,52,53,54,61,62,63,68,77,78]\n",
    "correct_idx = []\n",
    "problem_idx = []\n",
    "for idx in raw_correct_idx:\n",
    "    correct_idx.append(idx - 1)\n",
    "#len(correct_idx) -->35\n",
    "#len(problem_idx) -->40\n",
    "\n",
    "for idx in raw_problem_idx:\n",
    "    problem_idx.append(idx - 1)\n",
    "sensor_dict = {}\n",
    "sensor_list = ['1.[Accelerator pedal opening degree](%)', '2.[Actual Engine Torque](%)', '3.[Engine Speed](rpm)', '4.[Target fuel injection amount](mm3/st)', '5.[Current Gear]', '6.[Vehicle speed (25 pulses)](km/h)', '7.[CluchSW](MT only)', '8.[Brake SW]', '9.[Cruise Control Status]', '10.[coolant temperature](℃)', '11.[fuel temperature](℃)', '12.[Post injection Q](mm3)', '13.[Common rail pressure](MPa)', '14.[DPF differential pressure](kPa)', '15.[Atmospheric pressure](kPa)', '16.[Intake air temperature](℃)', '17.[Boost pressure](kPa)', '18.[CSF inlet temperature](℃)', '19.[DOC inlet temperature](℃)', '20.[DPF Status]', '21.[DPF error count]', '22.[DPF warning count]', '23.[DPF PM accumulation status]', '24.[DPF mileage status]', '25.[ITH Motor Protect Duty Limit Status]', '26.[EGR Motor Protect Duty Limit Status]', '27.[EGR Motor2 Protect Duty Limit Status]', '28.[DPF mode]', '29.[MAF](g/cyl)', '30.[EGR Duty](%)', '31.[EGR Target Position](%)','32.[EGR Actual Position](%)', '33.[Intake Throttle Duty](%)', '34.[Intake Throttle Target Position](%)', '35.[Intake Throttle Actual Position](%)', '36.[IGN Voltage](V)', '37.[RPCV Duty(medium small)・PCV Close Timing(large)](%・CA)', '38.[RPCV Actual Current(medium small)・PCV F/B Control Quantity(large)](mA・CA)', '39.[RPCV Desired Current(medium small)・EGR BLDC 2 Actual Position(large)](mA・%)', '40.[RPCV Commanded Fuel Flow(medium small)・EGR BLDC 2 Duty](mm3/sec・%)', '41.[Target Rail Pressure](Mpa)', '42.[VNT actual Position](%)', '43.[VNT Target Position](%)', '44.[Target Boost](%)', '45.[Engine Mode]', '46.[Mail SOI](CA)', '47.[Pilot SOI](CA)', '48.[CAM CRANK Synchro Status]', '49.[Cylinder1 Balancing Fuel Compensation](mm3/st)', '50.[Cylinder2 Balancing Fuel Compensation](mm3/st)', '51.[Cylinder3 Balancing Fuel Compensation](mm3/st)', '52.[Cylinder4 Balancing Fuel Compensation](mm3/st)', '53.[Cylinder5 Balancing Fuel Compensation](mm3/st)', '54.[Cylinder6 Balancing Fuel Compensation](mm3/st)', '55.[Target Idle rpm](rpm)', '56.[VGS Magnetic Valve Drive Status 1]', '57.[VGS Magnetic Valve Drive Status 2]', '58.[VGS Magnetic Valve Drive Status 3]', '59.[EGR cooler bypas valve]', '60.[Exhaust pipe INJ ON / OFF state](%)', '61.[Injection amount of exhaust pipe INJ](mm3/st)', '62.[Exhaust pipe INJ fuel pressure](kPa)', '63.[Compressor outlet temperature](℃)', '64.[Rail pressure reducing valve drive duty](%)', '65.[Rail pressure reducing valve target current](mA)', '66.[Rail pressure reducing valve actual current](mA)', '67.[Rail pressure reducing valve target pressure](MPa)', '68.[Turbo EVRV Duty output](%)', '69.[egr_bldc_pid_base_dc_1]', '70.[egr_bldc_pid_base_dc_2]', '71.[egr_bldc_p_term_fnl_1]', '72.[egr_bldc_p_term_fnl_2]', '73.[egr_bldc_i_term_fnl_1]', '74.[egr_bldc_i_term_fnl_2]', '75.[rpcv_dc_p_gain]', '76.[rpcv_dc_i_gain]', '77.[trb_trg_base_pos]', '78.[trb_map_fb_pos]', '79.[trb_map_p_term_fnl]', '80.[trb_map_i_term_fnl]', '81.[ith_dc_p_term]', '82.[ith_dc_i_term]', '83.[ith_dc_ff_fb]', '84.[CAC in sensor output]', '85.[CAC out sensor output]', '86.[Rail pressure sensor 2 output](MPa)', '87.[Sensor value O2](%)','88.[TBD]']\n",
    "\n",
    "for item in sensor_list:\n",
    "    sensor_number = int(item.split('.')[0])\n",
    "    sensor_name = item.split('.')[1]\n",
    "    sensor_dict[sensor_number] = sensor_name"
   ]
  },
  {
   "cell_type": "code",
   "execution_count": 4,
   "metadata": {},
   "outputs": [],
   "source": [
    "def read_training_pickle(directory):\n",
    "    '''\n",
    "    description: stack training multiple pickle in a directory with sub directory\n",
    "    input: directory path and error list\n",
    "    output: a single pkl file\n",
    "    '''\n",
    "    error_list = []\n",
    "    temp = directory.split('/')[-2]\n",
    "    if isfile(\"./\"+temp+\".pkl\"):\n",
    "        print(\"File already exist, loading from\", \"./\"+temp+\".pkl\")\n",
    "        pkl = pd.read_pickle(\"./\"+temp+\".pkl\")\n",
    "        print(\"Loading done\")\n",
    "    else:\n",
    "        print(\"Loading pickle files from\", directory)\n",
    "        pkl = pd.DataFrame() # create an empty df\n",
    "        for subdir in os.listdir(directory):\n",
    "            dir_path = directory+subdir\n",
    "            print(\"----------------\"+subdir+\"----------------\") # display\n",
    "            for file in os.listdir(dir_path):\n",
    "                print(file)\n",
    "                file_path = dir_path+\"/\"+file\n",
    "                new_file = pd.DataFrame(pd.read_pickle(file_path))[problem_idx]\n",
    "                pkl = pd.concat((pkl, new_file),axis=0) # concat\n",
    "        pkl.to_pickle(\"./\"+temp+\".pkl\") # save\n",
    "        print(\"Pickle file save in\", \"./\"+\"_label\"+\".pkl\")\n",
    "    return pkl"
   ]
  },
  {
   "cell_type": "code",
   "execution_count": 5,
   "metadata": {},
   "outputs": [
    {
     "name": "stdout",
     "output_type": "stream",
     "text": [
      "File already exist, loading from ./normal_data.pkl\n",
      "Loading done\n"
     ]
    }
   ],
   "source": [
    "normal_pkl = read_training_pickle(normal_data_path)"
   ]
  },
  {
   "cell_type": "code",
   "execution_count": 6,
   "metadata": {},
   "outputs": [
    {
     "data": {
      "text/plain": [
       "(442522, 88)"
      ]
     },
     "execution_count": 6,
     "metadata": {},
     "output_type": "execute_result"
    }
   ],
   "source": [
    "normal_pkl.shape"
   ]
  },
  {
   "cell_type": "code",
   "execution_count": 7,
   "metadata": {},
   "outputs": [],
   "source": [
    "def read_test_case(directory):\n",
    "    \"\"\"\n",
    "    Description: read 10 test cases into a dictionary\n",
    "    Input:directory path\n",
    "    Output:list\n",
    "    \"\"\"\n",
    "    pkl_list = []\n",
    "    for sub_dir in os.listdir(directory):\n",
    "        print(sub_dir)\n",
    "        sub_path = directory+sub_dir\n",
    "        temp = []\n",
    "        for pkl_file in os.listdir(sub_path):\n",
    "            pkl_file_path = sub_path + '/' + pkl_file\n",
    "            temp.append(pkl_file_path)\n",
    "        pkl_list.append(temp)\n",
    "    return pkl_list"
   ]
  },
  {
   "cell_type": "code",
   "execution_count": 8,
   "metadata": {},
   "outputs": [
    {
     "name": "stdout",
     "output_type": "stream",
     "text": [
      "3002LV234N3-----7000607output\n",
      "3002LV234N3-----7000617output\n",
      "3002LV234N3-----7000619output\n"
     ]
    }
   ],
   "source": [
    "normal_test_case = read_test_case(normal_data_path)"
   ]
  },
  {
   "cell_type": "code",
   "execution_count": 9,
   "metadata": {},
   "outputs": [
    {
     "name": "stdout",
     "output_type": "stream",
     "text": [
      "3002LV234N3-----7000442output\n",
      "3002LV234N3-----7000607output\n",
      "3002LV234N3-----7000612output\n",
      "3002LV234N3-----7000614output\n",
      "3002LV234N3-----7000616output\n",
      "3002LV234N3-----7000617output\n",
      "3002LV234N3-----7000618output\n",
      "3002LV234N3-----7000620output\n",
      "3002LV234N3-----7000714output\n",
      "3002LV234N3-----7000722output\n"
     ]
    }
   ],
   "source": [
    "abnormal_test_case = read_test_case(abnormal_data_path)"
   ]
  },
  {
   "cell_type": "code",
   "execution_count": 10,
   "metadata": {},
   "outputs": [],
   "source": [
    "def projection_matrix(matrix):\n",
    "    \"\"\"\n",
    "    Description: compute the projection matrix of given data matrix\n",
    "    Input: data matrix\n",
    "    Output: projection matrix\n",
    "    \"\"\"\n",
    "    #print(data_matrix)\n",
    "    print(\"Rank of the matrix is\", linalg.matrix_rank(matrix))\n",
    "    u,s,vt = linalg.svd(matrix, full_matrices=False)\n",
    "    ur = u[:,:10] # can modify by view singular values\n",
    "    plt.plot(s)\n",
    "    plt.title('Singular values')\n",
    "    return np.matmul(ur,ur.transpose()), s"
   ]
  },
  {
   "cell_type": "code",
   "execution_count": 11,
   "metadata": {},
   "outputs": [],
   "source": [
    "def pkl_to_matrix(pkl_file_path, train=1):\n",
    "    \"\"\"\n",
    "    Description: convert pickle file to matrix, (add 1 at the head and tail)\n",
    "    Input: pkl_file_path\n",
    "    Output: matrix(row: 40 sensors | column : # of samples)\n",
    "    \"\"\"\n",
    "    # load traning data from stacked pickle \n",
    "    if train == 1:\n",
    "        temp = pkl_file_path.split('/')[-2]\n",
    "        print(temp)\n",
    "        if isfile(\"./\"+temp+\".pkl\"): # normal_data\n",
    "            matrix = np.load(\"./\"+temp+\".pkl\")[problem_idx]\n",
    "            #allOne = np.ones((1,matrix.shape[1])) # construct a all one sample\n",
    "            #matrix = np.concatenate((allOne, matrix), axis=0)\n",
    "            #matrix = np.concatenate((matrix, allOne), axis=0)\n",
    "            print(\"Convert\", temp, \"to matrix... Done\")\n",
    "        else:\n",
    "            print(\"Error: normal_data.pkl doesn't exist. Call function {read_training_pickle} first.\")\n",
    "    \n",
    "    # load test data, note only use labels\n",
    "    else:\n",
    "        if isfile(pkl_file_path):\n",
    "            matrix = pd.DataFrame(pd.read_pickle(pkl_file_path))\n",
    "            if matrix.shape[1] == 89:\n",
    "                #print(pkl_file_path)\n",
    "                matrix = matrix[list(range(88))]\n",
    "            matrix = matrix[problem_idx]\n",
    "            #allOne = np.ones((1,matrix.shape[1])) # construct a all one sample\n",
    "            #matrix = np.concatenate((allOne, matrix), axis=0)\n",
    "            #matrix = np.concatenate((matrix, allOne), axis=0)\n",
    "            #print(\"Convert\", pkl_file_path, \"to matrix... Done\")\n",
    "        else:\n",
    "            print(\"Error: file doesn't exist\")\n",
    "    return matrix.transpose()"
   ]
  },
  {
   "cell_type": "code",
   "execution_count": 12,
   "metadata": {},
   "outputs": [
    {
     "name": "stdout",
     "output_type": "stream",
     "text": [
      "normal_data\n",
      "Convert normal_data to matrix... Done\n",
      "Rank of the matrix is 35\n"
     ]
    },
    {
     "data": {
      "image/png": "[encoded data removed]",
      "text/plain": [
       "<Figure size 432x288 with 1 Axes>"
      ]
     },
     "metadata": {
      "needs_background": "light"
     },
     "output_type": "display_data"
    }
   ],
   "source": [
    "train_matrix = pkl_to_matrix(normal_data_path)\n",
    "p, s = projection_matrix(train_matrix)"
   ]
  },
  {
   "cell_type": "code",
   "execution_count": 38,
   "metadata": {},
   "outputs": [],
   "source": [
    "def projection_distance(matrix, projection):\n",
    "    \"\"\"\n",
    "    Description: calculate the distance between a vector and a subspace(described as projeciton matrix)\n",
    "    Input: vector: test samples\n",
    "    Output: Euclidean distance\n",
    "    \"\"\"\n",
    "    num = projection.shape[0]\n",
    "    matrix_hat = np.matmul(projection, matrix)\n",
    "    distance = 0\n",
    "    matrix_difference = matrix_hat - matrix\n",
    "    for i in range(matrix_difference.shape[1]): # sample vecor index\n",
    "        temp = linalg.norm(matrix_difference[i])\n",
    "        #print(matrix_difference[i])\n",
    "        #print(temp)\n",
    "        distance+=temp\n",
    "    return distance/num"
   ]
  },
  {
   "cell_type": "code",
   "execution_count": 39,
   "metadata": {},
   "outputs": [
    {
     "data": {
      "text/plain": [
       "2990.971549490808"
      ]
     },
     "execution_count": 39,
     "metadata": {},
     "output_type": "execute_result"
    }
   ],
   "source": [
    "projection_distance(test_matrix, p)"
   ]
  },
  {
   "cell_type": "code",
   "execution_count": 40,
   "metadata": {},
   "outputs": [
    {
     "name": "stdout",
     "output_type": "stream",
     "text": [
      "-----------------------------\n",
      "Plotting abnormal case start from 2016/11\n",
      "Dates ['25', '26', '27', '28', '29', '30', '1', '2', '3', '5']\n",
      "Mean:  3107.126975661921 Variance:  2122617.4535941235\n",
      "Figure saved in ./res_test_projection/442\n",
      "-----------------------------\n",
      "Plotting abnormal case start from 2015/4\n",
      "Dates ['10', '11', '12', '13', '14', '15', '16', '17', '8', '9']\n",
      "Mean:  3732.0707338866296 Variance:  1601091.1724855837\n",
      "Figure saved in ./res_test_projection/607\n",
      "-----------------------------\n",
      "Plotting abnormal case start from 2015/12\n",
      "Dates ['11', '12', '13', '14', '15', '16', '17', '18', '19', '20', '21']\n",
      "Mean:  2866.6052851681557 Variance:  1316352.5239520748\n",
      "Figure saved in ./res_test_projection/612\n",
      "-----------------------------\n",
      "Plotting abnormal case start from 2016/3\n",
      "Dates ['20', '21', '22', '23', '24', '25', '26', '27', '28', '29']\n",
      "Mean:  3468.155929963005 Variance:  860145.5565704221\n",
      "Figure saved in ./res_test_projection/614\n",
      "-----------------------------\n",
      "Plotting abnormal case start from 2016/10\n",
      "Dates ['21', '22', '23', '24', '25', '26', '27', '28', '29', '30', '31']\n",
      "Mean:  3329.4981837260143 Variance:  2270988.515949993\n",
      "Figure saved in ./res_test_projection/616\n",
      "-----------------------------\n",
      "Plotting abnormal case start from 2016/4\n",
      "Dates ['15', '19', '20', '21', '22', '23', '24', '25']\n",
      "Mean:  2610.587852734779 Variance:  1030245.8856064223\n",
      "Figure saved in ./res_test_projection/617\n",
      "-----------------------------\n",
      "Plotting abnormal case start from 2016/7\n",
      "Dates ['14', '15', '16', '19', '20', '26', '4']\n",
      "Mean:  953.170424859429 Variance:  3440759.658004206\n",
      "Figure saved in ./res_test_projection/618\n",
      "-----------------------------\n",
      "Plotting abnormal case start from 2016/2\n",
      "Dates ['10', '11', '12', '13', '14', '15']\n",
      "Mean:  3135.214895735595 Variance:  1652910.8907907645\n",
      "Figure saved in ./res_test_projection/620\n",
      "-----------------------------\n",
      "Plotting abnormal case start from 2017/1\n",
      "Dates ['12', '19', '20', '21', '23', '24', '25', '26']\n",
      "Mean:  3710.649763474533 Variance:  7048133.365675848\n",
      "Figure saved in ./res_test_projection/714\n",
      "-----------------------------\n",
      "Plotting abnormal case start from 2017/3\n",
      "Dates ['12', '15', '16', '17', '18', '19', '20', '21', '22']\n",
      "Mean:  3509.0576661311984 Variance:  2378159.4063941347\n",
      "Figure saved in ./res_test_projection/722\n"
     ]
    }
   ],
   "source": [
    "# calculate distance for 10 cases and plot the result for each case\n",
    "if not isdir(\"./res_test_projection\"):\n",
    "    os.mkdir(\"./res_test_projection\")\n",
    "\n",
    "distance_test = []\n",
    "for case in abnormal_test_case:\n",
    "\n",
    "    temp = []\n",
    "    fig_name = case[0].split('/')[-2][-9:-6]\n",
    "    fig_name = './res_test_projection/' + fig_name\n",
    "    date_list = []\n",
    "    year = case[0].split('/')[-1].split('_')[0][-4:]\n",
    "    month = case[0].split('/')[-1].split('_')[1]\n",
    "    \n",
    "    for file in case:\n",
    "        if os.path.isfile(file):\n",
    "            test_matrix = pkl_to_matrix(file, train=0)\n",
    "            temp.append(projection_distance(test_matrix,p))\n",
    "            date = file.split('/')[-1].split('_')[2].split('.')[0]\n",
    "            date_list.append(date)\n",
    "    \n",
    "    # statistics calculation\n",
    "    mean = np.mean(temp)\n",
    "    variance = np.var(temp)\n",
    "\n",
    "\n",
    "    # display and save figure\n",
    "    print(\"-----------------------------\")\n",
    "    print(\"Plotting abnormal case start from\", year+'/'+month)\n",
    "    print(\"Dates\", date_list)\n",
    "    print(\"Mean: \",mean, \"Variance: \", variance)\n",
    "    print(\"Figure saved in\", fig_name)\n",
    "\n",
    "    plt.plot(temp)\n",
    "    plt.xlabel('date')\n",
    "    plt.ylabel('distance')\n",
    "    plt.xticks(range(len(date_list)), date_list) # change when do 20 days prediction\n",
    "    plt.title('Euclidean distance of case '+fig_name.split('/')[-1])\n",
    "    plt.legend([year+'/'+month])\n",
    "    #plt.text(0.2, 0.95, \"mean\"+str(mean), horizontalalignment='center',verticalalignment='center', transform=ax.transAxes)\n",
    "    plt.savefig(fig_name)\n",
    "    plt.close()\n",
    "    distance_test.append(temp)"
   ]
  },
  {
   "cell_type": "code",
   "execution_count": 41,
   "metadata": {},
   "outputs": [],
   "source": [
    "# plot distance case by case\n",
    "\n",
    "# for i in range(len(distance)): # 10 abnormal cases\n",
    "#     plt.plot(distance[i])\n",
    "#     plt.xlabel('days')\n",
    "#     plt.xticks(np.arange(1,11)) # change when do 20 days prediction\n",
    "#     plt.ylabel('distance')\n",
    "#     plt.savefig('./res_projection/distance_case'+str(i))\n",
    "#     plt.close()"
   ]
  },
  {
   "cell_type": "code",
   "execution_count": 42,
   "metadata": {},
   "outputs": [
    {
     "name": "stdout",
     "output_type": "stream",
     "text": [
      "-----------------------------\n",
      "Plotting abnormal case start from 2017/4\n",
      "Dates ['23', '24', '25', '26', '27', '28', '29', '30', '1']\n",
      "Mean:  3189.829134436876 Variance:  41180.950734543825\n",
      "Figure saved in ./res_normal_projection/607\n",
      "-----------------------------\n",
      "Plotting abnormal case start from 2016/12\n",
      "Dates ['27', '28', '29', '30', '31', '1', '10', '11', '12', '13', '14', '15', '2', '3', '4', '5', '6', '7', '8', '9']\n",
      "Mean:  3300.149914065053 Variance:  612168.6131379695\n",
      "Figure saved in ./res_normal_projection/617\n",
      "-----------------------------\n",
      "Plotting abnormal case start from 2016/11\n",
      "Dates ['11', '12', '13', '14', '15', '16', '17', '18', '19', '20', '21', '22', '23', '24', '25', '26', '27', '28', '29', '30']\n",
      "Mean:  3202.7665998252055 Variance:  678418.7493817257\n",
      "Figure saved in ./res_normal_projection/619\n"
     ]
    }
   ],
   "source": [
    "# plot for training\n",
    "# calculate distance for 10 cases and plot the result for each case\n",
    "if not isdir(\"./res_normal_projection\"):\n",
    "    os.mkdir(\"./res_normal_projection\")\n",
    "\n",
    "distance_train = []\n",
    "for case in normal_test_case:\n",
    "\n",
    "    temp = []\n",
    "    fig_name = case[0].split('/')[-2][-9:-6]\n",
    "    fig_name = './res_normal_projection/' + fig_name\n",
    "    date_list = []\n",
    "    year = case[0].split('/')[-1].split('_')[0][-4:]\n",
    "    month = case[0].split('/')[-1].split('_')[1]\n",
    "    \n",
    "    for file in case:\n",
    "        if os.path.isfile(file):\n",
    "            test_matrix = pkl_to_matrix(file, train=0)\n",
    "            temp.append(projection_distance(test_matrix,p))\n",
    "            date = file.split('/')[-1].split('_')[2].split('.')[0]\n",
    "            date_list.append(date)\n",
    "    \n",
    "    # statistics calculation\n",
    "    mean = np.mean(temp)\n",
    "    variance = np.var(temp)\n",
    "\n",
    "\n",
    "    # display and save figure\n",
    "    print(\"-----------------------------\")\n",
    "    print(\"Plotting abnormal case start from\", year+'/'+month)\n",
    "    print(\"Dates\", date_list)\n",
    "    print(\"Mean: \",mean, \"Variance: \", variance)\n",
    "    print(\"Figure saved in\", fig_name)\n",
    "\n",
    "    plt.plot(temp)\n",
    "    plt.xlabel('date')\n",
    "    plt.ylabel('distance')\n",
    "    plt.xticks(range(len(date_list)), date_list) # change when do 20 days prediction\n",
    "    plt.title('Euclidean distance of case '+fig_name.split('/')[-1])\n",
    "    plt.legend([year+'/'+month])\n",
    "    #plt.text(0.2, 0.95, \"mean\"+str(mean), horizontalalignment='center',verticalalignment='center', transform=ax.transAxes)\n",
    "    plt.savefig(fig_name)\n",
    "    plt.close()\n",
    "    distance_train.append(temp)"
   ]
  },
  {
   "cell_type": "code",
   "execution_count": null,
   "metadata": {},
   "outputs": [],
   "source": []
  },
  {
   "cell_type": "code",
   "execution_count": null,
   "metadata": {},
   "outputs": [],
   "source": []
  },
  {
   "cell_type": "code",
   "execution_count": null,
   "metadata": {},
   "outputs": [],
   "source": []
  }
 ],
 "metadata": {
  "kernelspec": {
   "display_name": "Python 3",
   "language": "python",
   "name": "python3"
  },
  "language_info": {
   "codemirror_mode": {
    "name": "ipython",
    "version": 3
   },
   "file_extension": ".py",
   "mimetype": "text/x-python",
   "name": "python",
   "nbconvert_exporter": "python",
   "pygments_lexer": "ipython3",
   "version": "3.7.0"
  }
 },
 "nbformat": 4,
 "nbformat_minor": 2
}
